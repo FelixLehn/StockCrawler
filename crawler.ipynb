{
 "metadata": {
  "language_info": {
   "codemirror_mode": {
    "name": "ipython",
    "version": 3
   },
   "file_extension": ".py",
   "mimetype": "text/x-python",
   "name": "python",
   "nbconvert_exporter": "python",
   "pygments_lexer": "ipython3",
   "version": "3.8.5-final"
  },
  "orig_nbformat": 2,
  "kernelspec": {
   "name": "python3",
   "display_name": "Python 3",
   "language": "python"
  }
 },
 "nbformat": 4,
 "nbformat_minor": 2,
 "cells": [
  {
   "cell_type": "code",
   "execution_count": 14,
   "metadata": {},
   "outputs": [],
   "source": [
    "import pandas as pd \n",
    "\n",
    "stock_data=pd.read_html(\"https://www.finanznachrichten.de/nachrichten/alle-empfehlungen.html\")\n",
    "\n"
   ]
  },
  {
   "cell_type": "code",
   "execution_count": 16,
   "metadata": {},
   "outputs": [
    {
     "output_type": "execute_result",
     "data": {
      "text/plain": [
       "4"
      ]
     },
     "metadata": {},
     "execution_count": 16
    }
   ],
   "source": [
    "\n",
    "len(stock_data)"
   ]
  },
  {
   "cell_type": "code",
   "execution_count": 18,
   "metadata": {},
   "outputs": [
    {
     "output_type": "stream",
     "name": "stdout",
     "text": [
      "    Zeit                           Aktuelle Nachrichten  \\\n0  21:46  JPMORGAN belässt COMMERZBANK AG auf 'Neutral'   \n1  21:46            GOLDMAN SACHS belässt ENI auf 'Buy'   \n2  19:10         BAADER BANK stuft Puma SE auf 'Reduce'   \n3  17:22       UBS belässt Siemens Gamesa auf 'Neutral'   \n4  16:22            UBS belässt Gea Group auf 'Neutral'   \n\n                 Unternehmen / Aktien        PotentialKurse aktuell  Leser  \\\n0                      COMMERZBANK AG       -9 % (5 Euro)5,496 Euro  305.0   \n1                             ENI SPA  +26 % (10,50 Euro)8,352 Euro  274.0   \n2                             PUMA SE      -4 % (80 Euro)83,56 Euro  447.0   \n3  SIEMENS GAMESA RENEWABLE ENERGY SA    -19 % (30 Euro)36,920 Euro  488.0   \n4                        GEA GROUP AG    +12 % (33 Euro)29,530 Euro  522.0   \n\n   Unnamed: 5  \n0         NaN  \n1         NaN  \n2         NaN  \n3         NaN  \n4         NaN  \n"
     ]
    },
    {
     "output_type": "execute_result",
     "data": {
      "text/plain": [
       "Index(['Zeit', 'Aktuelle Nachrichten', 'Unternehmen / Aktien',\n",
       "       'PotentialKurse aktuell', 'Leser', 'Unnamed: 5'],\n",
       "      dtype='object')"
      ]
     },
     "metadata": {},
     "execution_count": 18
    }
   ],
   "source": [
    "stock_data_first=pd.DataFrame(stock_data[1])\n",
    "print(stock_data_first.head())\n",
    "stock_data_first.columns"
   ]
  },
  {
   "cell_type": "code",
   "execution_count": 20,
   "metadata": {},
   "outputs": [
    {
     "output_type": "execute_result",
     "data": {
      "text/plain": [
       "    Zeit Aktuelle Nachrichten                Unternehmen / Aktien  \\\n",
       "0  21:46          COMMERZBANK                      COMMERZBANK AG   \n",
       "1  21:46                  ENI                             ENI SPA   \n",
       "2  19:10                 Puma                             PUMA SE   \n",
       "3  17:22              Siemens  SIEMENS GAMESA RENEWABLE ENERGY SA   \n",
       "4  16:22                  Gea                        GEA GROUP AG   \n",
       "\n",
       "         PotentialKurse aktuell  Leser  Unnamed: 5  \n",
       "0       -9 % (5 Euro)5,496 Euro  305.0         NaN  \n",
       "1  +26 % (10,50 Euro)8,352 Euro  274.0         NaN  \n",
       "2      -4 % (80 Euro)83,56 Euro  447.0         NaN  \n",
       "3    -19 % (30 Euro)36,920 Euro  488.0         NaN  \n",
       "4    +12 % (33 Euro)29,530 Euro  522.0         NaN  "
      ],
      "text/html": "<div>\n<style scoped>\n    .dataframe tbody tr th:only-of-type {\n        vertical-align: middle;\n    }\n\n    .dataframe tbody tr th {\n        vertical-align: top;\n    }\n\n    .dataframe thead th {\n        text-align: right;\n    }\n</style>\n<table border=\"1\" class=\"dataframe\">\n  <thead>\n    <tr style=\"text-align: right;\">\n      <th></th>\n      <th>Zeit</th>\n      <th>Aktuelle Nachrichten</th>\n      <th>Unternehmen / Aktien</th>\n      <th>PotentialKurse aktuell</th>\n      <th>Leser</th>\n      <th>Unnamed: 5</th>\n    </tr>\n  </thead>\n  <tbody>\n    <tr>\n      <th>0</th>\n      <td>21:46</td>\n      <td>COMMERZBANK</td>\n      <td>COMMERZBANK AG</td>\n      <td>-9 % (5 Euro)5,496 Euro</td>\n      <td>305.0</td>\n      <td>NaN</td>\n    </tr>\n    <tr>\n      <th>1</th>\n      <td>21:46</td>\n      <td>ENI</td>\n      <td>ENI SPA</td>\n      <td>+26 % (10,50 Euro)8,352 Euro</td>\n      <td>274.0</td>\n      <td>NaN</td>\n    </tr>\n    <tr>\n      <th>2</th>\n      <td>19:10</td>\n      <td>Puma</td>\n      <td>PUMA SE</td>\n      <td>-4 % (80 Euro)83,56 Euro</td>\n      <td>447.0</td>\n      <td>NaN</td>\n    </tr>\n    <tr>\n      <th>3</th>\n      <td>17:22</td>\n      <td>Siemens</td>\n      <td>SIEMENS GAMESA RENEWABLE ENERGY SA</td>\n      <td>-19 % (30 Euro)36,920 Euro</td>\n      <td>488.0</td>\n      <td>NaN</td>\n    </tr>\n    <tr>\n      <th>4</th>\n      <td>16:22</td>\n      <td>Gea</td>\n      <td>GEA GROUP AG</td>\n      <td>+12 % (33 Euro)29,530 Euro</td>\n      <td>522.0</td>\n      <td>NaN</td>\n    </tr>\n  </tbody>\n</table>\n</div>"
     },
     "metadata": {},
     "execution_count": 20
    }
   ],
   "source": [
    "import re\n",
    "\n",
    "stock_data_first['Aktuelle Nachrichten']=stock_data_first['Aktuelle Nachrichten'].str.findall('(?:stuft|belässt)\\s([A-Za-z]+)').transform(''.join)\n",
    "stock_data_first.head()"
   ]
  },
  {
   "cell_type": "code",
   "execution_count": 22,
   "metadata": {},
   "outputs": [],
   "source": [
    "stock_data_first['Potential in %']=stock_data_first['PotentialKurse aktuell'].str.findall('([+-]\\d*)\\s%').transform(''.join).apply(pd.to_numeric)\n"
   ]
  },
  {
   "cell_type": "code",
   "execution_count": 23,
   "metadata": {},
   "outputs": [
    {
     "output_type": "execute_result",
     "data": {
      "text/plain": [
       "    Zeit Aktuelle Nachrichten                Unternehmen / Aktien  \\\n",
       "0  21:46          COMMERZBANK                      COMMERZBANK AG   \n",
       "1  21:46                  ENI                             ENI SPA   \n",
       "2  19:10                 Puma                             PUMA SE   \n",
       "3  17:22              Siemens  SIEMENS GAMESA RENEWABLE ENERGY SA   \n",
       "4  16:22                  Gea                        GEA GROUP AG   \n",
       "\n",
       "         PotentialKurse aktuell  Leser  Unnamed: 5  Potential in %  \n",
       "0       -9 % (5 Euro)5,496 Euro  305.0         NaN            -9.0  \n",
       "1  +26 % (10,50 Euro)8,352 Euro  274.0         NaN            26.0  \n",
       "2      -4 % (80 Euro)83,56 Euro  447.0         NaN            -4.0  \n",
       "3    -19 % (30 Euro)36,920 Euro  488.0         NaN           -19.0  \n",
       "4    +12 % (33 Euro)29,530 Euro  522.0         NaN            12.0  "
      ],
      "text/html": "<div>\n<style scoped>\n    .dataframe tbody tr th:only-of-type {\n        vertical-align: middle;\n    }\n\n    .dataframe tbody tr th {\n        vertical-align: top;\n    }\n\n    .dataframe thead th {\n        text-align: right;\n    }\n</style>\n<table border=\"1\" class=\"dataframe\">\n  <thead>\n    <tr style=\"text-align: right;\">\n      <th></th>\n      <th>Zeit</th>\n      <th>Aktuelle Nachrichten</th>\n      <th>Unternehmen / Aktien</th>\n      <th>PotentialKurse aktuell</th>\n      <th>Leser</th>\n      <th>Unnamed: 5</th>\n      <th>Potential in %</th>\n    </tr>\n  </thead>\n  <tbody>\n    <tr>\n      <th>0</th>\n      <td>21:46</td>\n      <td>COMMERZBANK</td>\n      <td>COMMERZBANK AG</td>\n      <td>-9 % (5 Euro)5,496 Euro</td>\n      <td>305.0</td>\n      <td>NaN</td>\n      <td>-9.0</td>\n    </tr>\n    <tr>\n      <th>1</th>\n      <td>21:46</td>\n      <td>ENI</td>\n      <td>ENI SPA</td>\n      <td>+26 % (10,50 Euro)8,352 Euro</td>\n      <td>274.0</td>\n      <td>NaN</td>\n      <td>26.0</td>\n    </tr>\n    <tr>\n      <th>2</th>\n      <td>19:10</td>\n      <td>Puma</td>\n      <td>PUMA SE</td>\n      <td>-4 % (80 Euro)83,56 Euro</td>\n      <td>447.0</td>\n      <td>NaN</td>\n      <td>-4.0</td>\n    </tr>\n    <tr>\n      <th>3</th>\n      <td>17:22</td>\n      <td>Siemens</td>\n      <td>SIEMENS GAMESA RENEWABLE ENERGY SA</td>\n      <td>-19 % (30 Euro)36,920 Euro</td>\n      <td>488.0</td>\n      <td>NaN</td>\n      <td>-19.0</td>\n    </tr>\n    <tr>\n      <th>4</th>\n      <td>16:22</td>\n      <td>Gea</td>\n      <td>GEA GROUP AG</td>\n      <td>+12 % (33 Euro)29,530 Euro</td>\n      <td>522.0</td>\n      <td>NaN</td>\n      <td>12.0</td>\n    </tr>\n  </tbody>\n</table>\n</div>"
     },
     "metadata": {},
     "execution_count": 23
    }
   ],
   "source": [
    "stock_data_first.head()"
   ]
  },
  {
   "cell_type": "code",
   "execution_count": 24,
   "metadata": {},
   "outputs": [
    {
     "output_type": "execute_result",
     "data": {
      "text/plain": [
       "    Zeit Aktuelle Nachrichten          Unternehmen / Aktien  \\\n",
       "8  14:22                SAINT  COMPAGNIE DE SAINT-GOBAIN SA   \n",
       "5  15:22               Airbus                     AIRBUS SE   \n",
       "1  21:46                  ENI                       ENI SPA   \n",
       "9  14:10                  ING                  ING GROEP NV   \n",
       "7  14:46             Covestro                   COVESTRO AG   \n",
       "\n",
       "         PotentialKurse aktuell    Leser  Unnamed: 5  Potential in %  \n",
       "8    +39 % (59 Euro)42,360 Euro  936.000         NaN            39.0  \n",
       "5    +28 % (109 Euro)84,84 Euro    1.087         NaN            28.0  \n",
       "1  +26 % (10,50 Euro)8,352 Euro  274.000         NaN            26.0  \n",
       "9      +23 % (9 Euro)7,334 Euro  999.000         NaN            23.0  \n",
       "7     +21 % (67 Euro)55,36 Euro  869.000         NaN            21.0  "
      ],
      "text/html": "<div>\n<style scoped>\n    .dataframe tbody tr th:only-of-type {\n        vertical-align: middle;\n    }\n\n    .dataframe tbody tr th {\n        vertical-align: top;\n    }\n\n    .dataframe thead th {\n        text-align: right;\n    }\n</style>\n<table border=\"1\" class=\"dataframe\">\n  <thead>\n    <tr style=\"text-align: right;\">\n      <th></th>\n      <th>Zeit</th>\n      <th>Aktuelle Nachrichten</th>\n      <th>Unternehmen / Aktien</th>\n      <th>PotentialKurse aktuell</th>\n      <th>Leser</th>\n      <th>Unnamed: 5</th>\n      <th>Potential in %</th>\n    </tr>\n  </thead>\n  <tbody>\n    <tr>\n      <th>8</th>\n      <td>14:22</td>\n      <td>SAINT</td>\n      <td>COMPAGNIE DE SAINT-GOBAIN SA</td>\n      <td>+39 % (59 Euro)42,360 Euro</td>\n      <td>936.000</td>\n      <td>NaN</td>\n      <td>39.0</td>\n    </tr>\n    <tr>\n      <th>5</th>\n      <td>15:22</td>\n      <td>Airbus</td>\n      <td>AIRBUS SE</td>\n      <td>+28 % (109 Euro)84,84 Euro</td>\n      <td>1.087</td>\n      <td>NaN</td>\n      <td>28.0</td>\n    </tr>\n    <tr>\n      <th>1</th>\n      <td>21:46</td>\n      <td>ENI</td>\n      <td>ENI SPA</td>\n      <td>+26 % (10,50 Euro)8,352 Euro</td>\n      <td>274.000</td>\n      <td>NaN</td>\n      <td>26.0</td>\n    </tr>\n    <tr>\n      <th>9</th>\n      <td>14:10</td>\n      <td>ING</td>\n      <td>ING GROEP NV</td>\n      <td>+23 % (9 Euro)7,334 Euro</td>\n      <td>999.000</td>\n      <td>NaN</td>\n      <td>23.0</td>\n    </tr>\n    <tr>\n      <th>7</th>\n      <td>14:46</td>\n      <td>Covestro</td>\n      <td>COVESTRO AG</td>\n      <td>+21 % (67 Euro)55,36 Euro</td>\n      <td>869.000</td>\n      <td>NaN</td>\n      <td>21.0</td>\n    </tr>\n  </tbody>\n</table>\n</div>"
     },
     "metadata": {},
     "execution_count": 24
    }
   ],
   "source": [
    "stock_data_first=stock_data_first.sort_values(by=['Potential in %'],ascending=False)\n",
    "stock_data_first.head()"
   ]
  },
  {
   "cell_type": "code",
   "execution_count": 25,
   "metadata": {},
   "outputs": [],
   "source": [
    "from bs4 import BeautifulSoup\n",
    "import requests\n",
    "\n",
    "page=requests.get(\"https://www.finanznachrichten.de/nachrichten/alle-empfehlungen.html\")\n",
    "soup=BeautifulSoup(page.content,\"html.parser\")"
   ]
  },
  {
   "cell_type": "code",
   "execution_count": 26,
   "metadata": {},
   "outputs": [],
   "source": [
    "best_five=stock_data_first.iloc[:5]"
   ]
  },
  {
   "cell_type": "code",
   "execution_count": 27,
   "metadata": {},
   "outputs": [
    {
     "output_type": "execute_result",
     "data": {
      "text/plain": [
       "    Zeit Aktuelle Nachrichten          Unternehmen / Aktien  \\\n",
       "8  14:22                SAINT  COMPAGNIE DE SAINT-GOBAIN SA   \n",
       "5  15:22               Airbus                     AIRBUS SE   \n",
       "1  21:46                  ENI                       ENI SPA   \n",
       "9  14:10                  ING                  ING GROEP NV   \n",
       "7  14:46             Covestro                   COVESTRO AG   \n",
       "\n",
       "         PotentialKurse aktuell    Leser  Unnamed: 5  Potential in %  \n",
       "8    +39 % (59 Euro)42,360 Euro  936.000         NaN            39.0  \n",
       "5    +28 % (109 Euro)84,84 Euro    1.087         NaN            28.0  \n",
       "1  +26 % (10,50 Euro)8,352 Euro  274.000         NaN            26.0  \n",
       "9      +23 % (9 Euro)7,334 Euro  999.000         NaN            23.0  \n",
       "7     +21 % (67 Euro)55,36 Euro  869.000         NaN            21.0  "
      ],
      "text/html": "<div>\n<style scoped>\n    .dataframe tbody tr th:only-of-type {\n        vertical-align: middle;\n    }\n\n    .dataframe tbody tr th {\n        vertical-align: top;\n    }\n\n    .dataframe thead th {\n        text-align: right;\n    }\n</style>\n<table border=\"1\" class=\"dataframe\">\n  <thead>\n    <tr style=\"text-align: right;\">\n      <th></th>\n      <th>Zeit</th>\n      <th>Aktuelle Nachrichten</th>\n      <th>Unternehmen / Aktien</th>\n      <th>PotentialKurse aktuell</th>\n      <th>Leser</th>\n      <th>Unnamed: 5</th>\n      <th>Potential in %</th>\n    </tr>\n  </thead>\n  <tbody>\n    <tr>\n      <th>8</th>\n      <td>14:22</td>\n      <td>SAINT</td>\n      <td>COMPAGNIE DE SAINT-GOBAIN SA</td>\n      <td>+39 % (59 Euro)42,360 Euro</td>\n      <td>936.000</td>\n      <td>NaN</td>\n      <td>39.0</td>\n    </tr>\n    <tr>\n      <th>5</th>\n      <td>15:22</td>\n      <td>Airbus</td>\n      <td>AIRBUS SE</td>\n      <td>+28 % (109 Euro)84,84 Euro</td>\n      <td>1.087</td>\n      <td>NaN</td>\n      <td>28.0</td>\n    </tr>\n    <tr>\n      <th>1</th>\n      <td>21:46</td>\n      <td>ENI</td>\n      <td>ENI SPA</td>\n      <td>+26 % (10,50 Euro)8,352 Euro</td>\n      <td>274.000</td>\n      <td>NaN</td>\n      <td>26.0</td>\n    </tr>\n    <tr>\n      <th>9</th>\n      <td>14:10</td>\n      <td>ING</td>\n      <td>ING GROEP NV</td>\n      <td>+23 % (9 Euro)7,334 Euro</td>\n      <td>999.000</td>\n      <td>NaN</td>\n      <td>23.0</td>\n    </tr>\n    <tr>\n      <th>7</th>\n      <td>14:46</td>\n      <td>Covestro</td>\n      <td>COVESTRO AG</td>\n      <td>+21 % (67 Euro)55,36 Euro</td>\n      <td>869.000</td>\n      <td>NaN</td>\n      <td>21.0</td>\n    </tr>\n  </tbody>\n</table>\n</div>"
     },
     "metadata": {},
     "execution_count": 27
    }
   ],
   "source": [
    "best_five"
   ]
  },
  {
   "cell_type": "code",
   "execution_count": 28,
   "metadata": {},
   "outputs": [],
   "source": [
    "tables_list=[x for x in soup.find_all(\"table\",attrs={\"class\":\"rel-ct\"})]"
   ]
  },
  {
   "cell_type": "code",
   "execution_count": 29,
   "metadata": {},
   "outputs": [],
   "source": [
    "links=tables_list[0].tbody.find_all('a')\n",
    "filtered_links=[x.get('href') for i,x in enumerate(links) if i%2==0]\n"
   ]
  },
  {
   "cell_type": "code",
   "execution_count": 30,
   "metadata": {},
   "outputs": [
    {
     "output_type": "execute_result",
     "data": {
      "text/plain": [
       "[('https://www.finanznachrichten.de/nachrichten-2021-01/51818939-barclays-belaesst-saint-gobain-auf-overweight-322.htm',\n",
       "  'saint'),\n",
       " ('https://www.finanznachrichten.de/nachrichten-2021-01/51819832-jpmorgan-belaesst-airbus-auf-overweight-322.htm',\n",
       "  'airbus'),\n",
       " ('https://www.finanznachrichten.de/nachrichten-2021-01/51823099-goldman-sachs-belaesst-eni-auf-buy-322.htm',\n",
       "  'eni'),\n",
       " ('https://www.finanznachrichten.de/nachrichten-2021-01/51818753-credit-suisse-belaesst-ing-groep-n-v-auf-outperform-322.htm',\n",
       "  'ing'),\n",
       " ('https://www.finanznachrichten.de/nachrichten-2021-01/51819272-goldman-sachs-belaesst-covestro-auf-buy-322.htm',\n",
       "  'covestro')]"
      ]
     },
     "metadata": {},
     "execution_count": 30
    }
   ],
   "source": [
    "best_links=list(map(lambda x:list([(y,x) for y in filtered_links if x in y]),best_five['Aktuelle Nachrichten'].str.lower()))\n",
    "best_links=list(map(lambda x: x[0],best_links))\n",
    "best_links"
   ]
  },
  {
   "cell_type": "code",
   "execution_count": 31,
   "metadata": {},
   "outputs": [],
   "source": [
    "isins=[]\n",
    "for li in best_links:\n",
    "    page_2=requests.get(li[0])\n",
    "    soup_2=BeautifulSoup(page_2.content,\"html.parser\")\n",
    "    span=soup_2.find('span',attrs={'class':\"wkn-isin\"})\n",
    "    isins.append((span.find_all(id=\"produkt-isin\")[0].get('data-isin'),*li))"
   ]
  },
  {
   "cell_type": "code",
   "execution_count": 32,
   "metadata": {},
   "outputs": [
    {
     "output_type": "execute_result",
     "data": {
      "text/plain": [
       "[('FR0000125007',\n",
       "  'https://www.finanznachrichten.de/nachrichten-2021-01/51818939-barclays-belaesst-saint-gobain-auf-overweight-322.htm',\n",
       "  'saint'),\n",
       " ('NL0000235190',\n",
       "  'https://www.finanznachrichten.de/nachrichten-2021-01/51819832-jpmorgan-belaesst-airbus-auf-overweight-322.htm',\n",
       "  'airbus'),\n",
       " ('IT0003132476',\n",
       "  'https://www.finanznachrichten.de/nachrichten-2021-01/51823099-goldman-sachs-belaesst-eni-auf-buy-322.htm',\n",
       "  'eni'),\n",
       " ('NL0011821202',\n",
       "  'https://www.finanznachrichten.de/nachrichten-2021-01/51818753-credit-suisse-belaesst-ing-groep-n-v-auf-outperform-322.htm',\n",
       "  'ing'),\n",
       " ('DE0006062144',\n",
       "  'https://www.finanznachrichten.de/nachrichten-2021-01/51819272-goldman-sachs-belaesst-covestro-auf-buy-322.htm',\n",
       "  'covestro')]"
      ]
     },
     "metadata": {},
     "execution_count": 32
    }
   ],
   "source": [
    "isins"
   ]
  },
  {
   "cell_type": "code",
   "execution_count": 33,
   "metadata": {},
   "outputs": [],
   "source": [
    "stock_data_onvista=pd.DataFrame([])\n",
    "for isin in isins:\n",
    "    #page_3=requests.get(\"https://www.onvista.de/aktien/fundamental/-Aktie-{}\".format(isin[0]))\n",
    "    data=pd.read_html(\"https://www.onvista.de/aktien/fundamental/-Aktie-{}\".format(isin[0]))\n",
    "    filtered_data=data[1].rename(columns={data[1].columns[0]:\"Stats\"})\n",
    "    filtered_data['Unternehmen']=isin[2]\n",
    "    filtered_data=filtered_data.set_index(filtered_data['Unternehmen']).iloc[2]\n",
    "    stock_data_onvista=stock_data_onvista.append(filtered_data) \n"
   ]
  },
  {
   "cell_type": "code",
   "execution_count": 34,
   "metadata": {},
   "outputs": [
    {
     "output_type": "execute_result",
     "data": {
      "text/plain": [
       "              2017     2018      2019    2020e     2021e    2022e    2023e  \\\n",
       "saint      +19,91%  -72,79%  +236,36%  -38,38%  +112,23%  +17,15%   +5,34%   \n",
       "airbus    +136,43%  +29,18%   +47,40%  -11,14%         -  +28,42%  +41,60%   \n",
       "eni              -  +22,34%   -96,52%        -         -  +98,69%  +31,63%   \n",
       "ing         +5,00%   -3,96%    +1,65%  -52,42%   +49,33%  +19,68%   -0,57%   \n",
       "covestro  +152,67%   -4,73%   -68,07%  -18,87%   +24,83%  +35,13%  +52,91%   \n",
       "\n",
       "                   Stats Unternehmen  \n",
       "saint     Gewinnwachstum       saint  \n",
       "airbus    Gewinnwachstum      airbus  \n",
       "eni       Gewinnwachstum         eni  \n",
       "ing       Gewinnwachstum         ing  \n",
       "covestro  Gewinnwachstum    covestro  "
      ],
      "text/html": "<div>\n<style scoped>\n    .dataframe tbody tr th:only-of-type {\n        vertical-align: middle;\n    }\n\n    .dataframe tbody tr th {\n        vertical-align: top;\n    }\n\n    .dataframe thead th {\n        text-align: right;\n    }\n</style>\n<table border=\"1\" class=\"dataframe\">\n  <thead>\n    <tr style=\"text-align: right;\">\n      <th></th>\n      <th>2017</th>\n      <th>2018</th>\n      <th>2019</th>\n      <th>2020e</th>\n      <th>2021e</th>\n      <th>2022e</th>\n      <th>2023e</th>\n      <th>Stats</th>\n      <th>Unternehmen</th>\n    </tr>\n  </thead>\n  <tbody>\n    <tr>\n      <th>saint</th>\n      <td>+19,91%</td>\n      <td>-72,79%</td>\n      <td>+236,36%</td>\n      <td>-38,38%</td>\n      <td>+112,23%</td>\n      <td>+17,15%</td>\n      <td>+5,34%</td>\n      <td>Gewinnwachstum</td>\n      <td>saint</td>\n    </tr>\n    <tr>\n      <th>airbus</th>\n      <td>+136,43%</td>\n      <td>+29,18%</td>\n      <td>+47,40%</td>\n      <td>-11,14%</td>\n      <td>-</td>\n      <td>+28,42%</td>\n      <td>+41,60%</td>\n      <td>Gewinnwachstum</td>\n      <td>airbus</td>\n    </tr>\n    <tr>\n      <th>eni</th>\n      <td>-</td>\n      <td>+22,34%</td>\n      <td>-96,52%</td>\n      <td>-</td>\n      <td>-</td>\n      <td>+98,69%</td>\n      <td>+31,63%</td>\n      <td>Gewinnwachstum</td>\n      <td>eni</td>\n    </tr>\n    <tr>\n      <th>ing</th>\n      <td>+5,00%</td>\n      <td>-3,96%</td>\n      <td>+1,65%</td>\n      <td>-52,42%</td>\n      <td>+49,33%</td>\n      <td>+19,68%</td>\n      <td>-0,57%</td>\n      <td>Gewinnwachstum</td>\n      <td>ing</td>\n    </tr>\n    <tr>\n      <th>covestro</th>\n      <td>+152,67%</td>\n      <td>-4,73%</td>\n      <td>-68,07%</td>\n      <td>-18,87%</td>\n      <td>+24,83%</td>\n      <td>+35,13%</td>\n      <td>+52,91%</td>\n      <td>Gewinnwachstum</td>\n      <td>covestro</td>\n    </tr>\n  </tbody>\n</table>\n</div>"
     },
     "metadata": {},
     "execution_count": 34
    }
   ],
   "source": [
    "stock_data_onvista"
   ]
  },
  {
   "cell_type": "code",
   "execution_count": null,
   "metadata": {},
   "outputs": [],
   "source": []
  }
 ]
}