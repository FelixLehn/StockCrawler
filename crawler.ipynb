{
 "metadata": {
  "language_info": {
   "codemirror_mode": {
    "name": "ipython",
    "version": 3
   },
   "file_extension": ".py",
   "mimetype": "text/x-python",
   "name": "python",
   "nbconvert_exporter": "python",
   "pygments_lexer": "ipython3",
   "version": "3.8.5-final"
  },
  "orig_nbformat": 2,
  "kernelspec": {
   "name": "python3",
   "display_name": "Python 3",
   "language": "python"
  }
 },
 "nbformat": 4,
 "nbformat_minor": 2,
 "cells": [
  {
   "cell_type": "code",
   "execution_count": 1,
   "metadata": {},
   "outputs": [],
   "source": [
    "import pandas as pd \n",
    "\n",
    "stock_data=pd.read_html(\"https://www.finanznachrichten.de/nachrichten/alle-empfehlungen.html\")\n",
    "\n"
   ]
  },
  {
   "cell_type": "code",
   "execution_count": 2,
   "metadata": {},
   "outputs": [
    {
     "output_type": "execute_result",
     "data": {
      "text/plain": [
       "4"
      ]
     },
     "metadata": {},
     "execution_count": 2
    }
   ],
   "source": [
    "\n",
    "len(stock_data)"
   ]
  },
  {
   "cell_type": "code",
   "execution_count": 3,
   "metadata": {},
   "outputs": [
    {
     "output_type": "stream",
     "name": "stdout",
     "text": [
      "  Zeit                               Aktuelle Nachrichten  \\\n0   Fr        GOLDMAN SACHS belässt SOFTWARE AG auf 'Buy'   \n1   Fr         JEFFERIES belässt CONTINENTAL AG auf 'Buy'   \n2   Fr                GOLDMAN SACHS belässt ENI auf 'Buy'   \n3   Fr  GOLDMAN SACHS belässt MTU Aero Engines AG auf ...   \n4   Fr                 RBC belässt BARCLAYS auf 'Neutral'   \n\n  Unternehmen / Aktien        PotentialKurse aktuell  Leser  Unnamed: 5  \n0          SOFTWARE AG    +22 % (45 Euro)36,920 Euro  2.360         NaN  \n1       CONTINENTAL AG   +29 % (155 Euro)120,35 Euro  2.392         NaN  \n2              ENI SPA  +25 % (11,50 Euro)9,200 Euro  2.253         NaN  \n3  MTU AERO ENGINES AG    -6 % (180 Euro)191,55 Euro  1.883         NaN  \n4         BARCLAYS PLC     -2 % (1,50 GBP)1,775 Euro  1.769         NaN  \n"
     ]
    },
    {
     "output_type": "execute_result",
     "data": {
      "text/plain": [
       "Index(['Zeit', 'Aktuelle Nachrichten', 'Unternehmen / Aktien',\n",
       "       'PotentialKurse aktuell', 'Leser', 'Unnamed: 5'],\n",
       "      dtype='object')"
      ]
     },
     "metadata": {},
     "execution_count": 3
    }
   ],
   "source": [
    "stock_data_first=pd.DataFrame(stock_data[1])\n",
    "print(stock_data_first.head())\n",
    "stock_data_first.columns"
   ]
  },
  {
   "cell_type": "code",
   "execution_count": 4,
   "metadata": {},
   "outputs": [
    {
     "output_type": "execute_result",
     "data": {
      "text/plain": [
       "  Zeit Aktuelle Nachrichten Unternehmen / Aktien  \\\n",
       "0   Fr             SOFTWARE          SOFTWARE AG   \n",
       "1   Fr          CONTINENTAL       CONTINENTAL AG   \n",
       "2   Fr                  ENI              ENI SPA   \n",
       "3   Fr                  MTU  MTU AERO ENGINES AG   \n",
       "4   Fr             BARCLAYS         BARCLAYS PLC   \n",
       "\n",
       "         PotentialKurse aktuell  Leser  Unnamed: 5  \n",
       "0    +22 % (45 Euro)36,920 Euro  2.360         NaN  \n",
       "1   +29 % (155 Euro)120,35 Euro  2.392         NaN  \n",
       "2  +25 % (11,50 Euro)9,200 Euro  2.253         NaN  \n",
       "3    -6 % (180 Euro)191,55 Euro  1.883         NaN  \n",
       "4     -2 % (1,50 GBP)1,775 Euro  1.769         NaN  "
      ],
      "text/html": "<div>\n<style scoped>\n    .dataframe tbody tr th:only-of-type {\n        vertical-align: middle;\n    }\n\n    .dataframe tbody tr th {\n        vertical-align: top;\n    }\n\n    .dataframe thead th {\n        text-align: right;\n    }\n</style>\n<table border=\"1\" class=\"dataframe\">\n  <thead>\n    <tr style=\"text-align: right;\">\n      <th></th>\n      <th>Zeit</th>\n      <th>Aktuelle Nachrichten</th>\n      <th>Unternehmen / Aktien</th>\n      <th>PotentialKurse aktuell</th>\n      <th>Leser</th>\n      <th>Unnamed: 5</th>\n    </tr>\n  </thead>\n  <tbody>\n    <tr>\n      <th>0</th>\n      <td>Fr</td>\n      <td>SOFTWARE</td>\n      <td>SOFTWARE AG</td>\n      <td>+22 % (45 Euro)36,920 Euro</td>\n      <td>2.360</td>\n      <td>NaN</td>\n    </tr>\n    <tr>\n      <th>1</th>\n      <td>Fr</td>\n      <td>CONTINENTAL</td>\n      <td>CONTINENTAL AG</td>\n      <td>+29 % (155 Euro)120,35 Euro</td>\n      <td>2.392</td>\n      <td>NaN</td>\n    </tr>\n    <tr>\n      <th>2</th>\n      <td>Fr</td>\n      <td>ENI</td>\n      <td>ENI SPA</td>\n      <td>+25 % (11,50 Euro)9,200 Euro</td>\n      <td>2.253</td>\n      <td>NaN</td>\n    </tr>\n    <tr>\n      <th>3</th>\n      <td>Fr</td>\n      <td>MTU</td>\n      <td>MTU AERO ENGINES AG</td>\n      <td>-6 % (180 Euro)191,55 Euro</td>\n      <td>1.883</td>\n      <td>NaN</td>\n    </tr>\n    <tr>\n      <th>4</th>\n      <td>Fr</td>\n      <td>BARCLAYS</td>\n      <td>BARCLAYS PLC</td>\n      <td>-2 % (1,50 GBP)1,775 Euro</td>\n      <td>1.769</td>\n      <td>NaN</td>\n    </tr>\n  </tbody>\n</table>\n</div>"
     },
     "metadata": {},
     "execution_count": 4
    }
   ],
   "source": [
    "import re\n",
    "\n",
    "stock_data_first['Aktuelle Nachrichten']=stock_data_first['Aktuelle Nachrichten'].str.findall('(?:stuft|belässt)\\s([A-Za-z]+)').transform(''.join)\n",
    "stock_data_first.head()"
   ]
  },
  {
   "cell_type": "code",
   "execution_count": 5,
   "metadata": {},
   "outputs": [],
   "source": [
    "stock_data_first['Potential in %']=stock_data_first['PotentialKurse aktuell'].str.findall('([+-]\\d*)\\s%').transform(''.join).apply(pd.to_numeric)\n"
   ]
  },
  {
   "cell_type": "code",
   "execution_count": 6,
   "metadata": {},
   "outputs": [
    {
     "output_type": "execute_result",
     "data": {
      "text/plain": [
       "  Zeit Aktuelle Nachrichten Unternehmen / Aktien  \\\n",
       "0   Fr             SOFTWARE          SOFTWARE AG   \n",
       "1   Fr          CONTINENTAL       CONTINENTAL AG   \n",
       "2   Fr                  ENI              ENI SPA   \n",
       "3   Fr                  MTU  MTU AERO ENGINES AG   \n",
       "4   Fr             BARCLAYS         BARCLAYS PLC   \n",
       "\n",
       "         PotentialKurse aktuell  Leser  Unnamed: 5  Potential in %  \n",
       "0    +22 % (45 Euro)36,920 Euro  2.360         NaN            22.0  \n",
       "1   +29 % (155 Euro)120,35 Euro  2.392         NaN            29.0  \n",
       "2  +25 % (11,50 Euro)9,200 Euro  2.253         NaN            25.0  \n",
       "3    -6 % (180 Euro)191,55 Euro  1.883         NaN            -6.0  \n",
       "4     -2 % (1,50 GBP)1,775 Euro  1.769         NaN            -2.0  "
      ],
      "text/html": "<div>\n<style scoped>\n    .dataframe tbody tr th:only-of-type {\n        vertical-align: middle;\n    }\n\n    .dataframe tbody tr th {\n        vertical-align: top;\n    }\n\n    .dataframe thead th {\n        text-align: right;\n    }\n</style>\n<table border=\"1\" class=\"dataframe\">\n  <thead>\n    <tr style=\"text-align: right;\">\n      <th></th>\n      <th>Zeit</th>\n      <th>Aktuelle Nachrichten</th>\n      <th>Unternehmen / Aktien</th>\n      <th>PotentialKurse aktuell</th>\n      <th>Leser</th>\n      <th>Unnamed: 5</th>\n      <th>Potential in %</th>\n    </tr>\n  </thead>\n  <tbody>\n    <tr>\n      <th>0</th>\n      <td>Fr</td>\n      <td>SOFTWARE</td>\n      <td>SOFTWARE AG</td>\n      <td>+22 % (45 Euro)36,920 Euro</td>\n      <td>2.360</td>\n      <td>NaN</td>\n      <td>22.0</td>\n    </tr>\n    <tr>\n      <th>1</th>\n      <td>Fr</td>\n      <td>CONTINENTAL</td>\n      <td>CONTINENTAL AG</td>\n      <td>+29 % (155 Euro)120,35 Euro</td>\n      <td>2.392</td>\n      <td>NaN</td>\n      <td>29.0</td>\n    </tr>\n    <tr>\n      <th>2</th>\n      <td>Fr</td>\n      <td>ENI</td>\n      <td>ENI SPA</td>\n      <td>+25 % (11,50 Euro)9,200 Euro</td>\n      <td>2.253</td>\n      <td>NaN</td>\n      <td>25.0</td>\n    </tr>\n    <tr>\n      <th>3</th>\n      <td>Fr</td>\n      <td>MTU</td>\n      <td>MTU AERO ENGINES AG</td>\n      <td>-6 % (180 Euro)191,55 Euro</td>\n      <td>1.883</td>\n      <td>NaN</td>\n      <td>-6.0</td>\n    </tr>\n    <tr>\n      <th>4</th>\n      <td>Fr</td>\n      <td>BARCLAYS</td>\n      <td>BARCLAYS PLC</td>\n      <td>-2 % (1,50 GBP)1,775 Euro</td>\n      <td>1.769</td>\n      <td>NaN</td>\n      <td>-2.0</td>\n    </tr>\n  </tbody>\n</table>\n</div>"
     },
     "metadata": {},
     "execution_count": 6
    }
   ],
   "source": [
    "stock_data_first.head()"
   ]
  },
  {
   "cell_type": "code",
   "execution_count": 7,
   "metadata": {},
   "outputs": [
    {
     "output_type": "execute_result",
     "data": {
      "text/plain": [
       "   Zeit Aktuelle Nachrichten Unternehmen / Aktien  \\\n",
       "9    Fr                  ENI              ENI SPA   \n",
       "1    Fr          CONTINENTAL       CONTINENTAL AG   \n",
       "2    Fr                  ENI              ENI SPA   \n",
       "17   Fr                  RWE               RWE AG   \n",
       "0    Fr             SOFTWARE          SOFTWARE AG   \n",
       "\n",
       "          PotentialKurse aktuell  Leser  Unnamed: 5  Potential in %  \n",
       "9   +36 % (12,50 Euro)9,200 Euro  2.545         NaN            36.0  \n",
       "1    +29 % (155 Euro)120,35 Euro  2.392         NaN            29.0  \n",
       "2   +25 % (11,50 Euro)9,200 Euro  2.253         NaN            25.0  \n",
       "17    +23 % (40 Euro)32,470 Euro  2.181         NaN            23.0  \n",
       "0     +22 % (45 Euro)36,920 Euro  2.360         NaN            22.0  "
      ],
      "text/html": "<div>\n<style scoped>\n    .dataframe tbody tr th:only-of-type {\n        vertical-align: middle;\n    }\n\n    .dataframe tbody tr th {\n        vertical-align: top;\n    }\n\n    .dataframe thead th {\n        text-align: right;\n    }\n</style>\n<table border=\"1\" class=\"dataframe\">\n  <thead>\n    <tr style=\"text-align: right;\">\n      <th></th>\n      <th>Zeit</th>\n      <th>Aktuelle Nachrichten</th>\n      <th>Unternehmen / Aktien</th>\n      <th>PotentialKurse aktuell</th>\n      <th>Leser</th>\n      <th>Unnamed: 5</th>\n      <th>Potential in %</th>\n    </tr>\n  </thead>\n  <tbody>\n    <tr>\n      <th>9</th>\n      <td>Fr</td>\n      <td>ENI</td>\n      <td>ENI SPA</td>\n      <td>+36 % (12,50 Euro)9,200 Euro</td>\n      <td>2.545</td>\n      <td>NaN</td>\n      <td>36.0</td>\n    </tr>\n    <tr>\n      <th>1</th>\n      <td>Fr</td>\n      <td>CONTINENTAL</td>\n      <td>CONTINENTAL AG</td>\n      <td>+29 % (155 Euro)120,35 Euro</td>\n      <td>2.392</td>\n      <td>NaN</td>\n      <td>29.0</td>\n    </tr>\n    <tr>\n      <th>2</th>\n      <td>Fr</td>\n      <td>ENI</td>\n      <td>ENI SPA</td>\n      <td>+25 % (11,50 Euro)9,200 Euro</td>\n      <td>2.253</td>\n      <td>NaN</td>\n      <td>25.0</td>\n    </tr>\n    <tr>\n      <th>17</th>\n      <td>Fr</td>\n      <td>RWE</td>\n      <td>RWE AG</td>\n      <td>+23 % (40 Euro)32,470 Euro</td>\n      <td>2.181</td>\n      <td>NaN</td>\n      <td>23.0</td>\n    </tr>\n    <tr>\n      <th>0</th>\n      <td>Fr</td>\n      <td>SOFTWARE</td>\n      <td>SOFTWARE AG</td>\n      <td>+22 % (45 Euro)36,920 Euro</td>\n      <td>2.360</td>\n      <td>NaN</td>\n      <td>22.0</td>\n    </tr>\n  </tbody>\n</table>\n</div>"
     },
     "metadata": {},
     "execution_count": 7
    }
   ],
   "source": [
    "stock_data_first=stock_data_first.sort_values(by=['Potential in %'],ascending=False)\n",
    "stock_data_first.head()"
   ]
  },
  {
   "cell_type": "code",
   "execution_count": 8,
   "metadata": {},
   "outputs": [],
   "source": [
    "from bs4 import BeautifulSoup\n",
    "import requests\n",
    "\n",
    "page=requests.get(\"https://www.finanznachrichten.de/nachrichten/alle-empfehlungen.html\")\n",
    "soup=BeautifulSoup(page.content,\"html.parser\")"
   ]
  },
  {
   "cell_type": "code",
   "execution_count": 9,
   "metadata": {},
   "outputs": [],
   "source": [
    "best_five=stock_data_first.iloc[:5]"
   ]
  },
  {
   "cell_type": "code",
   "execution_count": 10,
   "metadata": {},
   "outputs": [
    {
     "output_type": "execute_result",
     "data": {
      "text/plain": [
       "   Zeit Aktuelle Nachrichten Unternehmen / Aktien  \\\n",
       "9    Fr                  ENI              ENI SPA   \n",
       "1    Fr          CONTINENTAL       CONTINENTAL AG   \n",
       "2    Fr                  ENI              ENI SPA   \n",
       "17   Fr                  RWE               RWE AG   \n",
       "0    Fr             SOFTWARE          SOFTWARE AG   \n",
       "\n",
       "          PotentialKurse aktuell  Leser  Unnamed: 5  Potential in %  \n",
       "9   +36 % (12,50 Euro)9,200 Euro  2.545         NaN            36.0  \n",
       "1    +29 % (155 Euro)120,35 Euro  2.392         NaN            29.0  \n",
       "2   +25 % (11,50 Euro)9,200 Euro  2.253         NaN            25.0  \n",
       "17    +23 % (40 Euro)32,470 Euro  2.181         NaN            23.0  \n",
       "0     +22 % (45 Euro)36,920 Euro  2.360         NaN            22.0  "
      ],
      "text/html": "<div>\n<style scoped>\n    .dataframe tbody tr th:only-of-type {\n        vertical-align: middle;\n    }\n\n    .dataframe tbody tr th {\n        vertical-align: top;\n    }\n\n    .dataframe thead th {\n        text-align: right;\n    }\n</style>\n<table border=\"1\" class=\"dataframe\">\n  <thead>\n    <tr style=\"text-align: right;\">\n      <th></th>\n      <th>Zeit</th>\n      <th>Aktuelle Nachrichten</th>\n      <th>Unternehmen / Aktien</th>\n      <th>PotentialKurse aktuell</th>\n      <th>Leser</th>\n      <th>Unnamed: 5</th>\n      <th>Potential in %</th>\n    </tr>\n  </thead>\n  <tbody>\n    <tr>\n      <th>9</th>\n      <td>Fr</td>\n      <td>ENI</td>\n      <td>ENI SPA</td>\n      <td>+36 % (12,50 Euro)9,200 Euro</td>\n      <td>2.545</td>\n      <td>NaN</td>\n      <td>36.0</td>\n    </tr>\n    <tr>\n      <th>1</th>\n      <td>Fr</td>\n      <td>CONTINENTAL</td>\n      <td>CONTINENTAL AG</td>\n      <td>+29 % (155 Euro)120,35 Euro</td>\n      <td>2.392</td>\n      <td>NaN</td>\n      <td>29.0</td>\n    </tr>\n    <tr>\n      <th>2</th>\n      <td>Fr</td>\n      <td>ENI</td>\n      <td>ENI SPA</td>\n      <td>+25 % (11,50 Euro)9,200 Euro</td>\n      <td>2.253</td>\n      <td>NaN</td>\n      <td>25.0</td>\n    </tr>\n    <tr>\n      <th>17</th>\n      <td>Fr</td>\n      <td>RWE</td>\n      <td>RWE AG</td>\n      <td>+23 % (40 Euro)32,470 Euro</td>\n      <td>2.181</td>\n      <td>NaN</td>\n      <td>23.0</td>\n    </tr>\n    <tr>\n      <th>0</th>\n      <td>Fr</td>\n      <td>SOFTWARE</td>\n      <td>SOFTWARE AG</td>\n      <td>+22 % (45 Euro)36,920 Euro</td>\n      <td>2.360</td>\n      <td>NaN</td>\n      <td>22.0</td>\n    </tr>\n  </tbody>\n</table>\n</div>"
     },
     "metadata": {},
     "execution_count": 10
    }
   ],
   "source": [
    "best_five"
   ]
  },
  {
   "cell_type": "code",
   "execution_count": 11,
   "metadata": {},
   "outputs": [],
   "source": [
    "tables_list=[x for x in soup.find_all(\"table\",attrs={\"class\":\"rel-ct\"})]"
   ]
  },
  {
   "cell_type": "code",
   "execution_count": 12,
   "metadata": {},
   "outputs": [],
   "source": [
    "links=tables_list[0].tbody.find_all('a')\n",
    "filtered_links=[x.get('href') for i,x in enumerate(links) if i%2==0]\n"
   ]
  },
  {
   "cell_type": "code",
   "execution_count": 32,
   "metadata": {},
   "outputs": [
    {
     "output_type": "execute_result",
     "data": {
      "text/plain": [
       "   Zeit Aktuelle Nachrichten Unternehmen / Aktien  \\\n",
       "9    Fr                  ENI              ENI SPA   \n",
       "1    Fr          CONTINENTAL       CONTINENTAL AG   \n",
       "2    Fr                  ENI              ENI SPA   \n",
       "17   Fr                  RWE               RWE AG   \n",
       "0    Fr             SOFTWARE          SOFTWARE AG   \n",
       "\n",
       "          PotentialKurse aktuell  Leser  Unnamed: 5  Potential in %  \\\n",
       "9   +36 % (12,50 Euro)9,200 Euro  2.545         NaN            36.0   \n",
       "1    +29 % (155 Euro)120,35 Euro  2.392         NaN            29.0   \n",
       "2   +25 % (11,50 Euro)9,200 Euro  2.253         NaN            25.0   \n",
       "17    +23 % (40 Euro)32,470 Euro  2.181         NaN            23.0   \n",
       "0     +22 % (45 Euro)36,920 Euro  2.360         NaN            22.0   \n",
       "\n",
       "                                                links  \n",
       "9   https://www.finanznachrichten.de/nachrichten-2...  \n",
       "1   https://www.finanznachrichten.de/nachrichten-2...  \n",
       "2   https://www.finanznachrichten.de/nachrichten-2...  \n",
       "17  https://www.finanznachrichten.de/nachrichten-2...  \n",
       "0   https://www.finanznachrichten.de/nachrichten-2...  "
      ],
      "text/html": "<div>\n<style scoped>\n    .dataframe tbody tr th:only-of-type {\n        vertical-align: middle;\n    }\n\n    .dataframe tbody tr th {\n        vertical-align: top;\n    }\n\n    .dataframe thead th {\n        text-align: right;\n    }\n</style>\n<table border=\"1\" class=\"dataframe\">\n  <thead>\n    <tr style=\"text-align: right;\">\n      <th></th>\n      <th>Zeit</th>\n      <th>Aktuelle Nachrichten</th>\n      <th>Unternehmen / Aktien</th>\n      <th>PotentialKurse aktuell</th>\n      <th>Leser</th>\n      <th>Unnamed: 5</th>\n      <th>Potential in %</th>\n      <th>links</th>\n    </tr>\n  </thead>\n  <tbody>\n    <tr>\n      <th>9</th>\n      <td>Fr</td>\n      <td>ENI</td>\n      <td>ENI SPA</td>\n      <td>+36 % (12,50 Euro)9,200 Euro</td>\n      <td>2.545</td>\n      <td>NaN</td>\n      <td>36.0</td>\n      <td>https://www.finanznachrichten.de/nachrichten-2...</td>\n    </tr>\n    <tr>\n      <th>1</th>\n      <td>Fr</td>\n      <td>CONTINENTAL</td>\n      <td>CONTINENTAL AG</td>\n      <td>+29 % (155 Euro)120,35 Euro</td>\n      <td>2.392</td>\n      <td>NaN</td>\n      <td>29.0</td>\n      <td>https://www.finanznachrichten.de/nachrichten-2...</td>\n    </tr>\n    <tr>\n      <th>2</th>\n      <td>Fr</td>\n      <td>ENI</td>\n      <td>ENI SPA</td>\n      <td>+25 % (11,50 Euro)9,200 Euro</td>\n      <td>2.253</td>\n      <td>NaN</td>\n      <td>25.0</td>\n      <td>https://www.finanznachrichten.de/nachrichten-2...</td>\n    </tr>\n    <tr>\n      <th>17</th>\n      <td>Fr</td>\n      <td>RWE</td>\n      <td>RWE AG</td>\n      <td>+23 % (40 Euro)32,470 Euro</td>\n      <td>2.181</td>\n      <td>NaN</td>\n      <td>23.0</td>\n      <td>https://www.finanznachrichten.de/nachrichten-2...</td>\n    </tr>\n    <tr>\n      <th>0</th>\n      <td>Fr</td>\n      <td>SOFTWARE</td>\n      <td>SOFTWARE AG</td>\n      <td>+22 % (45 Euro)36,920 Euro</td>\n      <td>2.360</td>\n      <td>NaN</td>\n      <td>22.0</td>\n      <td>https://www.finanznachrichten.de/nachrichten-2...</td>\n    </tr>\n  </tbody>\n</table>\n</div>"
     },
     "metadata": {},
     "execution_count": 32
    }
   ],
   "source": [
    "best_five['links']=best_five['Aktuelle Nachrichten'].apply(lambda x: [y for y in filtered_links if x.lower() in y][0])\n",
    "best_five"
   ]
  },
  {
   "cell_type": "code",
   "execution_count": 42,
   "metadata": {},
   "outputs": [],
   "source": [
    "isins=[]\n",
    "for index,li in best_five.iterrows():\n",
    "    page_2=requests.get(li['links'])\n",
    "    soup_2=BeautifulSoup(page_2.content,\"html.parser\")\n",
    "    span=soup_2.find('span',attrs={'class':\"wkn-isin\"})\n",
    "    isins.append((span.find_all(id=\"produkt-isin\")[0].get('data-isin'),li['links'],li['Potential in %'],li['Unternehmen / Aktien']))"
   ]
  },
  {
   "cell_type": "code",
   "execution_count": 43,
   "metadata": {},
   "outputs": [
    {
     "output_type": "execute_result",
     "data": {
      "text/plain": [
       "[('IT0003132476',\n",
       "  'https://www.finanznachrichten.de/nachrichten-2021-02/52072181-goldman-sachs-belaesst-eni-auf-buy-322.htm',\n",
       "  36.0,\n",
       "  'ENI SPA'),\n",
       " ('DE0005439004',\n",
       "  'https://www.finanznachrichten.de/nachrichten-2021-02/52072406-jefferies-belaesst-continental-ag-auf-buy-322.htm',\n",
       "  29.0,\n",
       "  'CONTINENTAL AG'),\n",
       " ('IT0003132476',\n",
       "  'https://www.finanznachrichten.de/nachrichten-2021-02/52072181-goldman-sachs-belaesst-eni-auf-buy-322.htm',\n",
       "  25.0,\n",
       "  'ENI SPA'),\n",
       " ('DE0007037129',\n",
       "  'https://www.finanznachrichten.de/nachrichten-2021-02/52068796-kepler-cheuvreux-belaesst-rwe-ag-auf-hold-322.htm',\n",
       "  23.0,\n",
       "  'RWE AG'),\n",
       " ('DE000A2GS401',\n",
       "  'https://www.finanznachrichten.de/nachrichten-2021-02/52072474-goldman-sachs-belaesst-software-ag-auf-buy-322.htm',\n",
       "  22.0,\n",
       "  'SOFTWARE AG')]"
      ]
     },
     "metadata": {},
     "execution_count": 43
    }
   ],
   "source": [
    "isins"
   ]
  },
  {
   "cell_type": "code",
   "execution_count": 46,
   "metadata": {},
   "outputs": [],
   "source": [
    "stock_data_onvista=pd.DataFrame([])\n",
    "for isin in isins:\n",
    "    #page_3=requests.get(\"https://www.onvista.de/aktien/fundamental/-Aktie-{}\".format(isin[0]))\n",
    "    data=pd.read_html(\"https://www.onvista.de/aktien/fundamental/-Aktie-{}\".format(isin[0]))\n",
    "    filtered_data=data[1].rename(columns={data[1].columns[0]:\"Stats\"})\n",
    "    filtered_data['Unternehmen']=isin[3]\n",
    "    filtered_data['Potential_Analyse']=isin[2]\n",
    "    filtered_data=filtered_data.set_index(filtered_data['Unternehmen']).iloc[2]\n",
    "    stock_data_onvista=stock_data_onvista.append(filtered_data) \n"
   ]
  },
  {
   "cell_type": "code",
   "execution_count": 53,
   "metadata": {},
   "outputs": [
    {
     "output_type": "execute_result",
     "data": {
      "text/plain": [
       "      2017     2018        2019    2020e    2021e    2022e    2023e  \\\n",
       "1        -  +22,34%     -96,52%        -        -  +75,13%  +35,61%   \n",
       "2   +6,49%   -2,88%           -  -48,55%        -  +48,21%  +38,62%   \n",
       "3        -  +22,34%     -96,52%        -        -  +75,13%  +35,61%   \n",
       "4  +66,52%  -82,52%  +2.459,25%  -88,47%  +21,18%   -7,26%  -19,26%   \n",
       "5   +2,17%  +18,61%      -6,27%      NaN   -9,71%  +29,65%  +27,42%   \n",
       "\n",
       "   Potential_Analyse           Stats     Unternehmen     2020  \n",
       "1               36.0  Gewinnwachstum         ENI SPA      NaN  \n",
       "2               29.0  Gewinnwachstum  CONTINENTAL AG      NaN  \n",
       "3               25.0  Gewinnwachstum         ENI SPA      NaN  \n",
       "4               23.0  Gewinnwachstum          RWE AG      NaN  \n",
       "5               22.0  Gewinnwachstum     SOFTWARE AG  -38,27%  "
      ],
      "text/html": "<div>\n<style scoped>\n    .dataframe tbody tr th:only-of-type {\n        vertical-align: middle;\n    }\n\n    .dataframe tbody tr th {\n        vertical-align: top;\n    }\n\n    .dataframe thead th {\n        text-align: right;\n    }\n</style>\n<table border=\"1\" class=\"dataframe\">\n  <thead>\n    <tr style=\"text-align: right;\">\n      <th></th>\n      <th>2017</th>\n      <th>2018</th>\n      <th>2019</th>\n      <th>2020e</th>\n      <th>2021e</th>\n      <th>2022e</th>\n      <th>2023e</th>\n      <th>Potential_Analyse</th>\n      <th>Stats</th>\n      <th>Unternehmen</th>\n      <th>2020</th>\n    </tr>\n  </thead>\n  <tbody>\n    <tr>\n      <th>1</th>\n      <td>-</td>\n      <td>+22,34%</td>\n      <td>-96,52%</td>\n      <td>-</td>\n      <td>-</td>\n      <td>+75,13%</td>\n      <td>+35,61%</td>\n      <td>36.0</td>\n      <td>Gewinnwachstum</td>\n      <td>ENI SPA</td>\n      <td>NaN</td>\n    </tr>\n    <tr>\n      <th>2</th>\n      <td>+6,49%</td>\n      <td>-2,88%</td>\n      <td>-</td>\n      <td>-48,55%</td>\n      <td>-</td>\n      <td>+48,21%</td>\n      <td>+38,62%</td>\n      <td>29.0</td>\n      <td>Gewinnwachstum</td>\n      <td>CONTINENTAL AG</td>\n      <td>NaN</td>\n    </tr>\n    <tr>\n      <th>3</th>\n      <td>-</td>\n      <td>+22,34%</td>\n      <td>-96,52%</td>\n      <td>-</td>\n      <td>-</td>\n      <td>+75,13%</td>\n      <td>+35,61%</td>\n      <td>25.0</td>\n      <td>Gewinnwachstum</td>\n      <td>ENI SPA</td>\n      <td>NaN</td>\n    </tr>\n    <tr>\n      <th>4</th>\n      <td>+66,52%</td>\n      <td>-82,52%</td>\n      <td>+2.459,25%</td>\n      <td>-88,47%</td>\n      <td>+21,18%</td>\n      <td>-7,26%</td>\n      <td>-19,26%</td>\n      <td>23.0</td>\n      <td>Gewinnwachstum</td>\n      <td>RWE AG</td>\n      <td>NaN</td>\n    </tr>\n    <tr>\n      <th>5</th>\n      <td>+2,17%</td>\n      <td>+18,61%</td>\n      <td>-6,27%</td>\n      <td>NaN</td>\n      <td>-9,71%</td>\n      <td>+29,65%</td>\n      <td>+27,42%</td>\n      <td>22.0</td>\n      <td>Gewinnwachstum</td>\n      <td>SOFTWARE AG</td>\n      <td>-38,27%</td>\n    </tr>\n  </tbody>\n</table>\n</div>"
     },
     "metadata": {},
     "execution_count": 53
    }
   ],
   "source": [
    "stock_data_onvista.set_index([pd.Index([1, 2, 3, 4, 5])])"
   ]
  },
  {
   "cell_type": "code",
   "execution_count": 51,
   "metadata": {},
   "outputs": [
    {
     "output_type": "execute_result",
     "data": {
      "text/plain": [
       "[0, 1, 2, 3, 4]"
      ]
     },
     "metadata": {},
     "execution_count": 51
    }
   ],
   "source": [
    "[x for x in range(5)]"
   ]
  },
  {
   "cell_type": "code",
   "execution_count": null,
   "metadata": {},
   "outputs": [],
   "source": []
  }
 ]
}