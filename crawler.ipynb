{
 "metadata": {
  "language_info": {
   "codemirror_mode": {
    "name": "ipython",
    "version": 3
   },
   "file_extension": ".py",
   "mimetype": "text/x-python",
   "name": "python",
   "nbconvert_exporter": "python",
   "pygments_lexer": "ipython3",
   "version": "3.8.5-final"
  },
  "orig_nbformat": 2,
  "kernelspec": {
   "name": "python3",
   "display_name": "Python 3",
   "language": "python"
  }
 },
 "nbformat": 4,
 "nbformat_minor": 2,
 "cells": [
  {
   "cell_type": "code",
   "execution_count": 120,
   "metadata": {},
   "outputs": [],
   "source": [
    "import pandas as pd \n",
    "\n",
    "stock_data=pd.read_html(\"https://www.finanznachrichten.de/nachrichten/alle-empfehlungen.html\")\n",
    "\n"
   ]
  },
  {
   "cell_type": "code",
   "execution_count": 121,
   "metadata": {},
   "outputs": [
    {
     "output_type": "execute_result",
     "data": {
      "text/plain": [
       "4"
      ]
     },
     "metadata": {},
     "execution_count": 121
    }
   ],
   "source": [
    "\n",
    "len(stock_data)"
   ]
  },
  {
   "cell_type": "code",
   "execution_count": 122,
   "metadata": {},
   "outputs": [
    {
     "output_type": "stream",
     "name": "stdout",
     "text": [
      "    Zeit                               Aktuelle Nachrichten  \\\n0  19:22                GOLDMAN SACHS belässt WPP auf 'Buy'   \n1  19:22          GOLDMAN SACHS belässt BHP GROUP auf 'Buy'   \n2  18:46                  RBC belässt ASML auf 'Outperform'   \n3  18:22        GOLDMAN SACHS belässt MERCK KGAA auf 'Sell'   \n4  18:10  CREDIT SUISSE belässt MERCK KGAA auf 'Outperform'   \n\n  Unternehmen / Aktien       PotentialKurse aktuell  Leser  Unnamed: 5  \n0              WPP PLC   +14 % (9,20 GBP)9,080 Euro    425         NaN  \n1        BHP GROUP PLC    +10 % (24 GBP)24,475 Euro    394         NaN  \n2      ASML HOLDING NV  +34 % (610 Euro)455,30 Euro    472         NaN  \n3           MERCK KGAA  -25 % (107 Euro)142,70 Euro    500         NaN  \n4           MERCK KGAA  +16 % (165 Euro)142,70 Euro    490         NaN  \n"
     ]
    },
    {
     "output_type": "execute_result",
     "data": {
      "text/plain": [
       "Index(['Zeit', 'Aktuelle Nachrichten', 'Unternehmen / Aktien',\n",
       "       'PotentialKurse aktuell', 'Leser', 'Unnamed: 5'],\n",
       "      dtype='object')"
      ]
     },
     "metadata": {},
     "execution_count": 122
    }
   ],
   "source": [
    "stock_data_first=pd.DataFrame(stock_data[1])\n",
    "print(stock_data_first.head())\n",
    "stock_data_first.columns"
   ]
  },
  {
   "cell_type": "code",
   "execution_count": 123,
   "metadata": {},
   "outputs": [
    {
     "output_type": "execute_result",
     "data": {
      "text/plain": [
       "    Zeit Aktuelle Nachrichten Unternehmen / Aktien  \\\n",
       "0  19:22                  WPP              WPP PLC   \n",
       "1  19:22                  BHP        BHP GROUP PLC   \n",
       "2  18:46                 ASML      ASML HOLDING NV   \n",
       "3  18:22                MERCK           MERCK KGAA   \n",
       "4  18:10                MERCK           MERCK KGAA   \n",
       "\n",
       "        PotentialKurse aktuell  Leser  Unnamed: 5  \n",
       "0   +14 % (9,20 GBP)9,080 Euro    425         NaN  \n",
       "1    +10 % (24 GBP)24,475 Euro    394         NaN  \n",
       "2  +34 % (610 Euro)455,30 Euro    472         NaN  \n",
       "3  -25 % (107 Euro)142,70 Euro    500         NaN  \n",
       "4  +16 % (165 Euro)142,70 Euro    490         NaN  "
      ],
      "text/html": "<div>\n<style scoped>\n    .dataframe tbody tr th:only-of-type {\n        vertical-align: middle;\n    }\n\n    .dataframe tbody tr th {\n        vertical-align: top;\n    }\n\n    .dataframe thead th {\n        text-align: right;\n    }\n</style>\n<table border=\"1\" class=\"dataframe\">\n  <thead>\n    <tr style=\"text-align: right;\">\n      <th></th>\n      <th>Zeit</th>\n      <th>Aktuelle Nachrichten</th>\n      <th>Unternehmen / Aktien</th>\n      <th>PotentialKurse aktuell</th>\n      <th>Leser</th>\n      <th>Unnamed: 5</th>\n    </tr>\n  </thead>\n  <tbody>\n    <tr>\n      <th>0</th>\n      <td>19:22</td>\n      <td>WPP</td>\n      <td>WPP PLC</td>\n      <td>+14 % (9,20 GBP)9,080 Euro</td>\n      <td>425</td>\n      <td>NaN</td>\n    </tr>\n    <tr>\n      <th>1</th>\n      <td>19:22</td>\n      <td>BHP</td>\n      <td>BHP GROUP PLC</td>\n      <td>+10 % (24 GBP)24,475 Euro</td>\n      <td>394</td>\n      <td>NaN</td>\n    </tr>\n    <tr>\n      <th>2</th>\n      <td>18:46</td>\n      <td>ASML</td>\n      <td>ASML HOLDING NV</td>\n      <td>+34 % (610 Euro)455,30 Euro</td>\n      <td>472</td>\n      <td>NaN</td>\n    </tr>\n    <tr>\n      <th>3</th>\n      <td>18:22</td>\n      <td>MERCK</td>\n      <td>MERCK KGAA</td>\n      <td>-25 % (107 Euro)142,70 Euro</td>\n      <td>500</td>\n      <td>NaN</td>\n    </tr>\n    <tr>\n      <th>4</th>\n      <td>18:10</td>\n      <td>MERCK</td>\n      <td>MERCK KGAA</td>\n      <td>+16 % (165 Euro)142,70 Euro</td>\n      <td>490</td>\n      <td>NaN</td>\n    </tr>\n  </tbody>\n</table>\n</div>"
     },
     "metadata": {},
     "execution_count": 123
    }
   ],
   "source": [
    "import re\n",
    "\n",
    "stock_data_first['Aktuelle Nachrichten']=stock_data_first['Aktuelle Nachrichten'].str.findall('belässt\\s([A-Z]*)').transform(''.join)\n",
    "stock_data_first.head()"
   ]
  },
  {
   "cell_type": "code",
   "execution_count": 124,
   "metadata": {},
   "outputs": [],
   "source": [
    "stock_data_first['Potential in %']=stock_data_first['PotentialKurse aktuell'].str.findall('([+-]\\d*)\\s%').transform(''.join).apply(pd.to_numeric)\n"
   ]
  },
  {
   "cell_type": "code",
   "execution_count": 55,
   "metadata": {},
   "outputs": [
    {
     "output_type": "execute_result",
     "data": {
      "text/plain": [
       "    Zeit Aktuelle Nachrichten Unternehmen / Aktien  \\\n",
       "0  19:22                [WPP]              WPP PLC   \n",
       "1  19:22                [BHP]        BHP GROUP PLC   \n",
       "2  18:46               [ASML]      ASML HOLDING NV   \n",
       "3  18:22              [MERCK]           MERCK KGAA   \n",
       "4  18:10              [MERCK]           MERCK KGAA   \n",
       "\n",
       "        PotentialKurse aktuell  Leser  Unnamed: 5  Potential in %  \n",
       "0   +14 % (9,20 GBP)9,080 Euro    309         NaN            14.0  \n",
       "1    +10 % (24 GBP)24,475 Euro    295         NaN            10.0  \n",
       "2  +35 % (610 Euro)453,20 Euro    366         NaN            35.0  \n",
       "3  -25 % (107 Euro)142,70 Euro    411         NaN           -25.0  \n",
       "4  +16 % (165 Euro)142,70 Euro    394         NaN            16.0  "
      ],
      "text/html": "<div>\n<style scoped>\n    .dataframe tbody tr th:only-of-type {\n        vertical-align: middle;\n    }\n\n    .dataframe tbody tr th {\n        vertical-align: top;\n    }\n\n    .dataframe thead th {\n        text-align: right;\n    }\n</style>\n<table border=\"1\" class=\"dataframe\">\n  <thead>\n    <tr style=\"text-align: right;\">\n      <th></th>\n      <th>Zeit</th>\n      <th>Aktuelle Nachrichten</th>\n      <th>Unternehmen / Aktien</th>\n      <th>PotentialKurse aktuell</th>\n      <th>Leser</th>\n      <th>Unnamed: 5</th>\n      <th>Potential in %</th>\n    </tr>\n  </thead>\n  <tbody>\n    <tr>\n      <th>0</th>\n      <td>19:22</td>\n      <td>[WPP]</td>\n      <td>WPP PLC</td>\n      <td>+14 % (9,20 GBP)9,080 Euro</td>\n      <td>309</td>\n      <td>NaN</td>\n      <td>14.0</td>\n    </tr>\n    <tr>\n      <th>1</th>\n      <td>19:22</td>\n      <td>[BHP]</td>\n      <td>BHP GROUP PLC</td>\n      <td>+10 % (24 GBP)24,475 Euro</td>\n      <td>295</td>\n      <td>NaN</td>\n      <td>10.0</td>\n    </tr>\n    <tr>\n      <th>2</th>\n      <td>18:46</td>\n      <td>[ASML]</td>\n      <td>ASML HOLDING NV</td>\n      <td>+35 % (610 Euro)453,20 Euro</td>\n      <td>366</td>\n      <td>NaN</td>\n      <td>35.0</td>\n    </tr>\n    <tr>\n      <th>3</th>\n      <td>18:22</td>\n      <td>[MERCK]</td>\n      <td>MERCK KGAA</td>\n      <td>-25 % (107 Euro)142,70 Euro</td>\n      <td>411</td>\n      <td>NaN</td>\n      <td>-25.0</td>\n    </tr>\n    <tr>\n      <th>4</th>\n      <td>18:10</td>\n      <td>[MERCK]</td>\n      <td>MERCK KGAA</td>\n      <td>+16 % (165 Euro)142,70 Euro</td>\n      <td>394</td>\n      <td>NaN</td>\n      <td>16.0</td>\n    </tr>\n  </tbody>\n</table>\n</div>"
     },
     "metadata": {},
     "execution_count": 55
    }
   ],
   "source": [
    "stock_data_first.head()"
   ]
  },
  {
   "cell_type": "code",
   "execution_count": 125,
   "metadata": {},
   "outputs": [
    {
     "output_type": "execute_result",
     "data": {
      "text/plain": [
       "     Zeit Aktuelle Nachrichten      Unternehmen / Aktien  \\\n",
       "2   18:46                 ASML           ASML HOLDING NV   \n",
       "17  15:22                    C               CECONOMY AG   \n",
       "10  16:22                  DWS  DWS GROUP GMBH & CO KGAA   \n",
       "16  15:22                  DIC              DIC ASSET AG   \n",
       "4   18:10                MERCK                MERCK KGAA   \n",
       "\n",
       "           PotentialKurse aktuell  Leser  Unnamed: 5  Potential in %  \n",
       "2     +34 % (610 Euro)455,30 Euro    472         NaN            34.0  \n",
       "17    +21 % (6,80 Euro)5,605 Euro    691         NaN            21.0  \n",
       "10     +20 % (42 Euro)35,115 Euro    624         NaN            20.0  \n",
       "16  +17 % (16,50 Euro)14,100 Euro    695         NaN            17.0  \n",
       "4     +16 % (165 Euro)142,70 Euro    490         NaN            16.0  "
      ],
      "text/html": "<div>\n<style scoped>\n    .dataframe tbody tr th:only-of-type {\n        vertical-align: middle;\n    }\n\n    .dataframe tbody tr th {\n        vertical-align: top;\n    }\n\n    .dataframe thead th {\n        text-align: right;\n    }\n</style>\n<table border=\"1\" class=\"dataframe\">\n  <thead>\n    <tr style=\"text-align: right;\">\n      <th></th>\n      <th>Zeit</th>\n      <th>Aktuelle Nachrichten</th>\n      <th>Unternehmen / Aktien</th>\n      <th>PotentialKurse aktuell</th>\n      <th>Leser</th>\n      <th>Unnamed: 5</th>\n      <th>Potential in %</th>\n    </tr>\n  </thead>\n  <tbody>\n    <tr>\n      <th>2</th>\n      <td>18:46</td>\n      <td>ASML</td>\n      <td>ASML HOLDING NV</td>\n      <td>+34 % (610 Euro)455,30 Euro</td>\n      <td>472</td>\n      <td>NaN</td>\n      <td>34.0</td>\n    </tr>\n    <tr>\n      <th>17</th>\n      <td>15:22</td>\n      <td>C</td>\n      <td>CECONOMY AG</td>\n      <td>+21 % (6,80 Euro)5,605 Euro</td>\n      <td>691</td>\n      <td>NaN</td>\n      <td>21.0</td>\n    </tr>\n    <tr>\n      <th>10</th>\n      <td>16:22</td>\n      <td>DWS</td>\n      <td>DWS GROUP GMBH &amp; CO KGAA</td>\n      <td>+20 % (42 Euro)35,115 Euro</td>\n      <td>624</td>\n      <td>NaN</td>\n      <td>20.0</td>\n    </tr>\n    <tr>\n      <th>16</th>\n      <td>15:22</td>\n      <td>DIC</td>\n      <td>DIC ASSET AG</td>\n      <td>+17 % (16,50 Euro)14,100 Euro</td>\n      <td>695</td>\n      <td>NaN</td>\n      <td>17.0</td>\n    </tr>\n    <tr>\n      <th>4</th>\n      <td>18:10</td>\n      <td>MERCK</td>\n      <td>MERCK KGAA</td>\n      <td>+16 % (165 Euro)142,70 Euro</td>\n      <td>490</td>\n      <td>NaN</td>\n      <td>16.0</td>\n    </tr>\n  </tbody>\n</table>\n</div>"
     },
     "metadata": {},
     "execution_count": 125
    }
   ],
   "source": [
    "stock_data_first=stock_data_first.sort_values(by=['Potential in %'],ascending=False)\n",
    "stock_data_first.head()"
   ]
  },
  {
   "cell_type": "code",
   "execution_count": 126,
   "metadata": {},
   "outputs": [],
   "source": [
    "from bs4 import BeautifulSoup\n",
    "import requests\n",
    "\n",
    "page=requests.get(\"https://www.finanznachrichten.de/nachrichten/alle-empfehlungen.html\")\n",
    "soup=BeautifulSoup(page.content,\"html.parser\")"
   ]
  },
  {
   "cell_type": "code",
   "execution_count": 127,
   "metadata": {},
   "outputs": [],
   "source": [
    "best_five=stock_data_first.iloc[:5]"
   ]
  },
  {
   "cell_type": "code",
   "execution_count": 128,
   "metadata": {},
   "outputs": [
    {
     "output_type": "execute_result",
     "data": {
      "text/plain": [
       "     Zeit Aktuelle Nachrichten      Unternehmen / Aktien  \\\n",
       "2   18:46                 ASML           ASML HOLDING NV   \n",
       "17  15:22                    C               CECONOMY AG   \n",
       "10  16:22                  DWS  DWS GROUP GMBH & CO KGAA   \n",
       "16  15:22                  DIC              DIC ASSET AG   \n",
       "4   18:10                MERCK                MERCK KGAA   \n",
       "\n",
       "           PotentialKurse aktuell  Leser  Unnamed: 5  Potential in %  \n",
       "2     +34 % (610 Euro)455,30 Euro    472         NaN            34.0  \n",
       "17    +21 % (6,80 Euro)5,605 Euro    691         NaN            21.0  \n",
       "10     +20 % (42 Euro)35,115 Euro    624         NaN            20.0  \n",
       "16  +17 % (16,50 Euro)14,100 Euro    695         NaN            17.0  \n",
       "4     +16 % (165 Euro)142,70 Euro    490         NaN            16.0  "
      ],
      "text/html": "<div>\n<style scoped>\n    .dataframe tbody tr th:only-of-type {\n        vertical-align: middle;\n    }\n\n    .dataframe tbody tr th {\n        vertical-align: top;\n    }\n\n    .dataframe thead th {\n        text-align: right;\n    }\n</style>\n<table border=\"1\" class=\"dataframe\">\n  <thead>\n    <tr style=\"text-align: right;\">\n      <th></th>\n      <th>Zeit</th>\n      <th>Aktuelle Nachrichten</th>\n      <th>Unternehmen / Aktien</th>\n      <th>PotentialKurse aktuell</th>\n      <th>Leser</th>\n      <th>Unnamed: 5</th>\n      <th>Potential in %</th>\n    </tr>\n  </thead>\n  <tbody>\n    <tr>\n      <th>2</th>\n      <td>18:46</td>\n      <td>ASML</td>\n      <td>ASML HOLDING NV</td>\n      <td>+34 % (610 Euro)455,30 Euro</td>\n      <td>472</td>\n      <td>NaN</td>\n      <td>34.0</td>\n    </tr>\n    <tr>\n      <th>17</th>\n      <td>15:22</td>\n      <td>C</td>\n      <td>CECONOMY AG</td>\n      <td>+21 % (6,80 Euro)5,605 Euro</td>\n      <td>691</td>\n      <td>NaN</td>\n      <td>21.0</td>\n    </tr>\n    <tr>\n      <th>10</th>\n      <td>16:22</td>\n      <td>DWS</td>\n      <td>DWS GROUP GMBH &amp; CO KGAA</td>\n      <td>+20 % (42 Euro)35,115 Euro</td>\n      <td>624</td>\n      <td>NaN</td>\n      <td>20.0</td>\n    </tr>\n    <tr>\n      <th>16</th>\n      <td>15:22</td>\n      <td>DIC</td>\n      <td>DIC ASSET AG</td>\n      <td>+17 % (16,50 Euro)14,100 Euro</td>\n      <td>695</td>\n      <td>NaN</td>\n      <td>17.0</td>\n    </tr>\n    <tr>\n      <th>4</th>\n      <td>18:10</td>\n      <td>MERCK</td>\n      <td>MERCK KGAA</td>\n      <td>+16 % (165 Euro)142,70 Euro</td>\n      <td>490</td>\n      <td>NaN</td>\n      <td>16.0</td>\n    </tr>\n  </tbody>\n</table>\n</div>"
     },
     "metadata": {},
     "execution_count": 128
    }
   ],
   "source": [
    "best_five"
   ]
  },
  {
   "cell_type": "code",
   "execution_count": 129,
   "metadata": {},
   "outputs": [],
   "source": [
    "tables_list=[x for x in soup.find_all(\"table\",attrs={\"class\":\"rel-ct\"})]"
   ]
  },
  {
   "cell_type": "code",
   "execution_count": 130,
   "metadata": {},
   "outputs": [],
   "source": [
    "links=tables_list[0].tbody.find_all('a')\n",
    "filtered_links=[x.get('href') for i,x in enumerate(links) if i%2==0]\n"
   ]
  },
  {
   "cell_type": "code",
   "execution_count": 160,
   "metadata": {},
   "outputs": [
    {
     "output_type": "execute_result",
     "data": {
      "text/plain": [
       "['https://www.finanznachrichten.de/nachrichten-2021-01/51784193-rbc-belaesst-asml-auf-outperform-322.htm',\n",
       " 'https://www.finanznachrichten.de/nachrichten-2021-01/51784454-goldman-sachs-belaesst-wpp-auf-buy-322.htm',\n",
       " 'https://www.finanznachrichten.de/nachrichten-2021-01/51782762-ubs-belaesst-dws-auf-buy-322.htm',\n",
       " 'https://www.finanznachrichten.de/nachrichten-2021-01/51782025-baader-bank-belaesst-dic-asset-ag-auf-buy-322.htm',\n",
       " 'https://www.finanznachrichten.de/nachrichten-2021-01/51784015-goldman-sachs-belaesst-merck-kgaa-auf-sell-322.htm']"
      ]
     },
     "metadata": {},
     "execution_count": 160
    }
   ],
   "source": [
    "best_links=list(map(lambda x:list([y for y in filtered_links if x in y]),best_five['Aktuelle Nachrichten'].str.lower()))\n",
    "best_links=list(map(lambda x: x[0],best_links))\n",
    "best_links"
   ]
  },
  {
   "cell_type": "code",
   "execution_count": 161,
   "metadata": {},
   "outputs": [],
   "source": [
    "isins=[]\n",
    "for li in best_links:\n",
    "    page_2=requests.get(li)\n",
    "    soup_2=BeautifulSoup(page_2.content,\"html.parser\")\n",
    "    span=soup_2.find('span',attrs={'class':\"wkn-isin\"})\n",
    "    isins.append((span.find_all(id=\"produkt-isin\")[0].get('data-isin'),li))"
   ]
  },
  {
   "cell_type": "code",
   "execution_count": 162,
   "metadata": {},
   "outputs": [
    {
     "output_type": "execute_result",
     "data": {
      "text/plain": [
       "[('NL0010273215',\n",
       "  'https://www.finanznachrichten.de/nachrichten-2021-01/51784193-rbc-belaesst-asml-auf-outperform-322.htm'),\n",
       " ('JE00B8KF9B49',\n",
       "  'https://www.finanznachrichten.de/nachrichten-2021-01/51784454-goldman-sachs-belaesst-wpp-auf-buy-322.htm'),\n",
       " ('DE000DWS1007',\n",
       "  'https://www.finanznachrichten.de/nachrichten-2021-01/51782762-ubs-belaesst-dws-auf-buy-322.htm'),\n",
       " ('DE000A1X3XX4',\n",
       "  'https://www.finanznachrichten.de/nachrichten-2021-01/51782025-baader-bank-belaesst-dic-asset-ag-auf-buy-322.htm'),\n",
       " ('DE0006599905',\n",
       "  'https://www.finanznachrichten.de/nachrichten-2021-01/51784015-goldman-sachs-belaesst-merck-kgaa-auf-sell-322.htm')]"
      ]
     },
     "metadata": {},
     "execution_count": 162
    }
   ],
   "source": [
    "page_3=requests.get(\"https://www.onvista.de/aktien/-Aktie-JE00B8KF9B49\")"
   ]
  },
  {
   "cell_type": "code",
   "execution_count": 112,
   "metadata": {},
   "outputs": [
    {
     "output_type": "execute_result",
     "data": {
      "text/plain": [
       "(('JE00B8KF9B49',\n",
       "  'https://www.finanznachrichten.de/nachrichten-2021-01/51784454-goldman-sachs-belaesst-wpp-auf-buy-322.htm'),\n",
       " ('GB00BH0P3Z91',\n",
       "  'https://www.finanznachrichten.de/nachrichten-2021-01/51784455-goldman-sachs-belaesst-bhp-group-auf-buy-322.htm'),\n",
       " ('NL0010273215',\n",
       "  'https://www.finanznachrichten.de/nachrichten-2021-01/51784193-rbc-belaesst-asml-auf-outperform-322.htm'),\n",
       " ('DE0006599905',\n",
       "  'https://www.finanznachrichten.de/nachrichten-2021-01/51784015-goldman-sachs-belaesst-merck-kgaa-auf-sell-322.htm'),\n",
       " ('DE0006599905',\n",
       "  'https://www.finanznachrichten.de/nachrichten-2021-01/51783854-credit-suisse-belaesst-merck-kgaa-auf-outperform-322.htm'),\n",
       " ('US30231G1022',\n",
       "  'https://www.finanznachrichten.de/nachrichten-2021-01/51783624-credit-suisse-belaesst-exxon-mobil-corp-auf-neutral-322.htm'),\n",
       " ('DE000BASF111',\n",
       "  'https://www.finanznachrichten.de/nachrichten-2021-01/51783416-baader-bank-belaesst-basf-se-auf-buy-322.htm'),\n",
       " ('DE0006599905',\n",
       "  'https://www.finanznachrichten.de/nachrichten-2021-01/51783415-jpmorgan-belaesst-merck-kgaa-auf-overweight-322.htm'),\n",
       " ('DE000BASF111',\n",
       "  'https://www.finanznachrichten.de/nachrichten-2021-01/51782874-ubs-belaesst-basf-se-auf-buy-322.htm'),\n",
       " ('DE000A1DAHH0',\n",
       "  'https://www.finanznachrichten.de/nachrichten-2021-01/51782875-dz-bank-stuft-brenntag-auf-halten-322.htm'),\n",
       " ('DE000DWS1007',\n",
       "  'https://www.finanznachrichten.de/nachrichten-2021-01/51782762-ubs-belaesst-dws-auf-buy-322.htm'),\n",
       " ('US64110L1061',\n",
       "  'https://www.finanznachrichten.de/nachrichten-2021-01/51782765-barclays-belaesst-netflix-com-inc-auf-overweight-322.htm'),\n",
       " ('DE000A1J5RX9',\n",
       "  'https://www.finanznachrichten.de/nachrichten-2021-01/51782763-dz-bank-belaesst-telefonica-deutschland-auf-halten-322.htm'),\n",
       " ('DE000BASF111',\n",
       "  'https://www.finanznachrichten.de/nachrichten-2021-01/51782766-barclays-belaesst-basf-se-auf-equal-weight-322.htm'),\n",
       " ('DE0005909006',\n",
       "  'https://www.finanznachrichten.de/nachrichten-2021-01/51782764-ubs-belaesst-bilfinger-auf-neutral-322.htm'),\n",
       " ('DE0006047004',\n",
       "  'https://www.finanznachrichten.de/nachrichten-2021-01/51782290-barclays-belaesst-heidelbergcement-ag-auf-equal-weight-322.htm'),\n",
       " ('DE000A1X3XX4',\n",
       "  'https://www.finanznachrichten.de/nachrichten-2021-01/51782025-baader-bank-belaesst-dic-asset-ag-auf-buy-322.htm'),\n",
       " ('DE0007257503',\n",
       "  'https://www.finanznachrichten.de/nachrichten-2021-01/51782024-baader-bank-belaesst-ceconomy-auf-buy-322.htm'),\n",
       " ('DE000BASF111',\n",
       "  'https://www.finanznachrichten.de/nachrichten-2021-01/51782026-jpmorgan-belaesst-basf-se-auf-underweight-322.htm'),\n",
       " ('IE0001827041',\n",
       "  'https://www.finanznachrichten.de/nachrichten-2021-01/51782027-barclays-belaesst-crh-auf-underweight-322.htm'))"
      ]
     },
     "metadata": {},
     "execution_count": 112
    }
   ],
   "source": []
  },
  {
   "cell_type": "code",
   "execution_count": null,
   "metadata": {},
   "outputs": [],
   "source": []
  }
 ]
}